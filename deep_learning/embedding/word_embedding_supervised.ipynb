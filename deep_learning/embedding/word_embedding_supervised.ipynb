{
 "cells": [
  {
   "cell_type": "code",
   "execution_count": 1,
   "metadata": {},
   "outputs": [
    {
     "name": "stderr",
     "output_type": "stream",
     "text": [
      "2023-05-19 14:54:23.836125: I tensorflow/core/platform/cpu_feature_guard.cc:182] This TensorFlow binary is optimized to use available CPU instructions in performance-critical operations.\n",
      "To enable the following instructions: AVX2 FMA, in other operations, rebuild TensorFlow with the appropriate compiler flags.\n"
     ]
    }
   ],
   "source": [
    "import numpy as np\n",
    "from tensorflow.keras.preprocessing.text import one_hot\n",
    "from tensorflow.keras.preprocessing.sequence import pad_sequences\n",
    "from tensorflow.keras.models import Sequential\n",
    "from tensorflow.keras.layers import Dense\n",
    "from tensorflow.keras.layers import Flatten\n",
    "from tensorflow.keras.layers import Embedding"
   ]
  },
  {
   "cell_type": "code",
   "execution_count": 3,
   "metadata": {},
   "outputs": [],
   "source": [
    "movie_reviews = ['amazing movie',\n",
    "        'amazing screenplay',\n",
    "        'so good to watch',\n",
    "        'will watch again',\n",
    "        'hard to digest',\n",
    "        'do not watch with family',\n",
    "        'horrible action',\n",
    "        'poor quality',\n",
    "        'just loved it!',\n",
    "        'bad acting']\n",
    "\n",
    "feedback = np.array([1,1,1,1,0,0,0,0,0,0])\n"
   ]
  },
  {
   "cell_type": "code",
   "execution_count": 10,
   "metadata": {},
   "outputs": [
    {
     "data": {
      "text/plain": [
       "10"
      ]
     },
     "execution_count": 10,
     "metadata": {},
     "output_type": "execute_result"
    }
   ],
   "source": [
    "a = np.array(movie_reviews)\n",
    "np.unique(a.flatten())\n"
   ]
  },
  {
   "cell_type": "code",
   "execution_count": 12,
   "metadata": {},
   "outputs": [
    {
     "name": "stdout",
     "output_type": "stream",
     "text": [
      "[[15, 31], [15, 43], [32, 44, 22, 13], [43, 13, 38], [22, 22, 9], [19, 42, 13, 42, 18], [18, 4], [9, 33], [36, 33, 4], [39, 27]]\n"
     ]
    }
   ],
   "source": [
    "vocab_size = 45\n",
    "encoded_reviews = [one_hot(d, vocab_size) for d in movie_reviews]\n",
    "print(encoded_reviews)"
   ]
  },
  {
   "cell_type": "code",
   "execution_count": 13,
   "metadata": {},
   "outputs": [
    {
     "name": "stdout",
     "output_type": "stream",
     "text": [
      "[[15 31  0  0  0]\n",
      " [15 43  0  0  0]\n",
      " [32 44 22 13  0]\n",
      " [43 13 38  0  0]\n",
      " [22 22  9  0  0]\n",
      " [19 42 13 42 18]\n",
      " [18  4  0  0  0]\n",
      " [ 9 33  0  0  0]\n",
      " [36 33  4  0  0]\n",
      " [39 27  0  0  0]]\n"
     ]
    }
   ],
   "source": [
    "max_length = 5\n",
    "padded_reviews = pad_sequences(encoded_reviews, maxlen=max_length, padding='post')\n",
    "print(padded_reviews)"
   ]
  },
  {
   "cell_type": "code",
   "execution_count": null,
   "metadata": {},
   "outputs": [],
   "source": []
  }
 ],
 "metadata": {
  "kernelspec": {
   "display_name": "deep",
   "language": "python",
   "name": "python3"
  },
  "language_info": {
   "codemirror_mode": {
    "name": "ipython",
    "version": 3
   },
   "file_extension": ".py",
   "mimetype": "text/x-python",
   "name": "python",
   "nbconvert_exporter": "python",
   "pygments_lexer": "ipython3",
   "version": "3.9.11"
  },
  "orig_nbformat": 4
 },
 "nbformat": 4,
 "nbformat_minor": 2
}
