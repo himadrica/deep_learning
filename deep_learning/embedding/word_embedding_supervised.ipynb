{
 "cells": [
  {
   "cell_type": "code",
   "execution_count": 1,
   "metadata": {},
   "outputs": [
    {
     "name": "stderr",
     "output_type": "stream",
     "text": [
      "2023-05-19 14:54:23.836125: I tensorflow/core/platform/cpu_feature_guard.cc:182] This TensorFlow binary is optimized to use available CPU instructions in performance-critical operations.\n",
      "To enable the following instructions: AVX2 FMA, in other operations, rebuild TensorFlow with the appropriate compiler flags.\n"
     ]
    }
   ],
   "source": [
    "import numpy as np\n",
    "from tensorflow.keras.preprocessing.text import one_hot\n",
    "from tensorflow.keras.preprocessing.sequence import pad_sequences\n",
    "from tensorflow.keras.models import Sequential\n",
    "from tensorflow.keras.layers import Dense\n",
    "from tensorflow.keras.layers import Flatten\n",
    "from tensorflow.keras.layers import Embedding"
   ]
  },
  {
   "cell_type": "code",
   "execution_count": 3,
   "metadata": {},
   "outputs": [],
   "source": [
    "movie_reviews = ['amazing movie',\n",
    "        'amazing screenplay',\n",
    "        'so good to watch',\n",
    "        'will watch again',\n",
    "        'hard to digest',\n",
    "        'do not watch with family',\n",
    "        'horrible action',\n",
    "        'poor quality',\n",
    "        'just loved it!',\n",
    "        'bad acting']\n",
    "\n",
    "feedback = np.array([1,1,1,1,0,0,0,0,0,0])\n"
   ]
  },
  {
   "cell_type": "code",
   "execution_count": 10,
   "metadata": {},
   "outputs": [
    {
     "data": {
      "text/plain": [
       "10"
      ]
     },
     "execution_count": 10,
     "metadata": {},
     "output_type": "execute_result"
    }
   ],
   "source": [
    "a = np.array(movie_reviews)\n",
    "np.unique(a.flatten())\n"
   ]
  },
  {
   "cell_type": "code",
   "execution_count": 14,
   "metadata": {},
   "outputs": [
    {
     "name": "stdout",
     "output_type": "stream",
     "text": [
      "[[23, 19], [23, 11], [12, 24, 22, 13], [7, 13, 18], [6, 22, 17], [7, 6, 13, 6, 6], [18, 16], [5, 9], [20, 1, 12], [15, 3]]\n"
     ]
    }
   ],
   "source": [
    "vocab_size = 25\n",
    "encoded_reviews = [one_hot(d, vocab_size) for d in movie_reviews]\n",
    "print(encoded_reviews)"
   ]
  },
  {
   "cell_type": "code",
   "execution_count": 15,
   "metadata": {},
   "outputs": [
    {
     "name": "stdout",
     "output_type": "stream",
     "text": [
      "[[23 19  0  0  0]\n",
      " [23 11  0  0  0]\n",
      " [12 24 22 13  0]\n",
      " [ 7 13 18  0  0]\n",
      " [ 6 22 17  0  0]\n",
      " [ 7  6 13  6  6]\n",
      " [18 16  0  0  0]\n",
      " [ 5  9  0  0  0]\n",
      " [20  1 12  0  0]\n",
      " [15  3  0  0  0]]\n"
     ]
    }
   ],
   "source": [
    "max_length = 5\n",
    "padded_reviews = pad_sequences(encoded_reviews, maxlen=max_length, padding='post')\n",
    "print(padded_reviews)"
   ]
  },
  {
   "cell_type": "code",
   "execution_count": 16,
   "metadata": {},
   "outputs": [],
   "source": [
    "embeded_vector_size = 10\n",
    "\n",
    "model = Sequential()\n",
    "model.add(Embedding(vocab_size, embeded_vector_size, input_length=max_length,name=\"embedding\"))\n",
    "model.add(Flatten())\n",
    "model.add(Dense(1, activation='sigmoid'))"
   ]
  },
  {
   "cell_type": "code",
   "execution_count": 17,
   "metadata": {},
   "outputs": [],
   "source": [
    "X = padded_reviews\n",
    "y = feedback"
   ]
  },
  {
   "cell_type": "code",
   "execution_count": 18,
   "metadata": {},
   "outputs": [
    {
     "name": "stdout",
     "output_type": "stream",
     "text": [
      "Model: \"sequential\"\n",
      "_________________________________________________________________\n",
      " Layer (type)                Output Shape              Param #   \n",
      "=================================================================\n",
      " embedding (Embedding)       (None, 5, 10)             250       \n",
      "                                                                 \n",
      " flatten (Flatten)           (None, 50)                0         \n",
      "                                                                 \n",
      " dense (Dense)               (None, 1)                 51        \n",
      "                                                                 \n",
      "=================================================================\n",
      "Total params: 301\n",
      "Trainable params: 301\n",
      "Non-trainable params: 0\n",
      "_________________________________________________________________\n",
      "None\n"
     ]
    }
   ],
   "source": [
    "model.compile(optimizer='adam', loss='binary_crossentropy', metrics=['accuracy'])\n",
    "print(model.summary())"
   ]
  },
  {
   "cell_type": "code",
   "execution_count": 19,
   "metadata": {},
   "outputs": [
    {
     "data": {
      "text/plain": [
       "<keras.callbacks.History at 0x7f8140f0b520>"
      ]
     },
     "execution_count": 19,
     "metadata": {},
     "output_type": "execute_result"
    }
   ],
   "source": [
    "model.fit(X, y, epochs=50, verbose=0)\n"
   ]
  },
  {
   "cell_type": "code",
   "execution_count": 20,
   "metadata": {},
   "outputs": [
    {
     "name": "stdout",
     "output_type": "stream",
     "text": [
      "1/1 [==============================] - 0s 134ms/step - loss: 0.5897 - accuracy: 1.0000\n"
     ]
    },
    {
     "data": {
      "text/plain": [
       "1.0"
      ]
     },
     "execution_count": 20,
     "metadata": {},
     "output_type": "execute_result"
    }
   ],
   "source": [
    "# evaluate the model\n",
    "loss, accuracy = model.evaluate(X, y)\n",
    "accuracy"
   ]
  },
  {
   "cell_type": "code",
   "execution_count": 21,
   "metadata": {},
   "outputs": [
    {
     "data": {
      "text/plain": [
       "array([[ 0.0063487 , -0.05948115, -0.06647543, -0.00206955,  0.07662971,\n",
       "         0.00430162, -0.00089939,  0.08285811,  0.04659643, -0.07417975],\n",
       "       [-0.0986698 ,  0.0581788 , -0.10036638, -0.05880994,  0.08563414,\n",
       "        -0.0984487 , -0.07154179,  0.08499292, -0.0377113 , -0.04479944],\n",
       "       [-0.04555628, -0.03702503, -0.03543254,  0.03688068,  0.00561578,\n",
       "         0.01061964, -0.04133021, -0.01988447,  0.04424747,  0.03982176],\n",
       "       [-0.06262188,  0.00475178, -0.03698746, -0.01355573,  0.07941059,\n",
       "        -0.02673383, -0.02146895,  0.09054885, -0.02286593, -0.06888851],\n",
       "       [-0.03399146, -0.04780308,  0.03260472,  0.01497864, -0.03372262,\n",
       "        -0.03688998,  0.00098555, -0.02488532,  0.03831801,  0.02313867],\n",
       "       [-0.0740354 ,  0.00071683,  0.0185373 , -0.03180682,  0.02955516,\n",
       "         0.04698355, -0.03535455, -0.06004008,  0.08883809, -0.10765298],\n",
       "       [-0.04153438,  0.06593198, -0.0159052 , -0.04536909, -0.07148987,\n",
       "        -0.07555617, -0.01774289,  0.08825211, -0.04874022, -0.01780468],\n",
       "       [ 0.04219526, -0.08616637, -0.01106247,  0.00707602, -0.06467523,\n",
       "        -0.00386832,  0.01661024,  0.03988226, -0.06427328,  0.07194538],\n",
       "       [-0.018879  , -0.02063655,  0.02608864, -0.00423852, -0.01989827,\n",
       "        -0.03295892,  0.01661035,  0.04798244,  0.01692646,  0.02936286],\n",
       "       [-0.02294933,  0.01650595, -0.03593137, -0.0388602 ,  0.00491682,\n",
       "        -0.06258987, -0.06251369,  0.0727018 , -0.08172261, -0.04069287],\n",
       "       [-0.01302197, -0.01546366,  0.04125811,  0.02430171,  0.01750182,\n",
       "         0.00410219, -0.00081448, -0.02788171,  0.04589767, -0.02941291],\n",
       "       [ 0.016923  , -0.03420761,  0.0700703 ,  0.04496523, -0.05316655,\n",
       "         0.02875554,  0.08127529, -0.04813681,  0.054853  ,  0.08161765],\n",
       "       [ 0.06410957, -0.02469516,  0.04449946,  0.01936348, -0.00594202,\n",
       "         0.07366115,  0.02225223,  0.08804571,  0.00166844,  0.06443352],\n",
       "       [ 0.03593954, -0.05756778,  0.03794312,  0.07971197,  0.0398056 ,\n",
       "         0.07388942,  0.05542513, -0.0222415 ,  0.03632978,  0.05784521],\n",
       "       [ 0.02678439,  0.00743445, -0.00850097, -0.00852363, -0.04987241,\n",
       "         0.03550805,  0.03043624, -0.03301251, -0.02121602,  0.01396031],\n",
       "       [-0.0639123 ,  0.08889612,  0.02406303, -0.03235741,  0.01908986,\n",
       "         0.02541411, -0.09708476, -0.03602635,  0.07300515, -0.0472552 ],\n",
       "       [-0.04538118,  0.08751158, -0.09978122, -0.03415598,  0.05371756,\n",
       "        -0.01014725, -0.00279849,  0.05817707, -0.06087238, -0.03767071],\n",
       "       [-0.09632339,  0.05156422, -0.03266308,  0.09393153, -0.08157426,\n",
       "        -0.0145289 , -0.09449061, -0.06064089, -0.00148811, -0.00271823],\n",
       "       [-0.09727044,  0.03860343,  0.00608784, -0.02888346,  0.09296237,\n",
       "        -0.0467145 , -0.02596793, -0.03650884, -0.00520315, -0.07559437],\n",
       "       [ 0.07003662, -0.03446531,  0.01282817,  0.08822504, -0.0548843 ,\n",
       "         0.05246577,  0.05422826, -0.04854847,  0.08134501,  0.07264324],\n",
       "       [-0.10053841,  0.01477449,  0.0630944 , -0.09710764,  0.08351508,\n",
       "         0.08436051, -0.101742  , -0.05403783,  0.03573574, -0.09155708],\n",
       "       [-0.00185994, -0.02529033,  0.03626085, -0.01771786, -0.03412812,\n",
       "         0.0316887 ,  0.00632302, -0.03361525, -0.04881811,  0.00285052],\n",
       "       [-0.0742961 ,  0.03377579,  0.04642962,  0.04877331, -0.01180009,\n",
       "         0.08420725,  0.07514093, -0.02088816, -0.01673555,  0.08957375],\n",
       "       [ 0.07322605,  0.00159459, -0.09350877,  0.06293655, -0.06100204,\n",
       "        -0.08923415,  0.0939847 ,  0.01510112, -0.00284532,  0.02758363],\n",
       "       [ 0.05521854, -0.08858688,  0.05485943,  0.08732288, -0.07343388,\n",
       "         0.04237576,  0.07289937, -0.09697336,  0.0636175 ,  0.05988901]],\n",
       "      dtype=float32)"
      ]
     },
     "execution_count": 21,
     "metadata": {},
     "output_type": "execute_result"
    }
   ],
   "source": [
    "weights = model.get_layer('embedding').get_weights()[0]\n",
    "weights"
   ]
  },
  {
   "cell_type": "code",
   "execution_count": null,
   "metadata": {},
   "outputs": [],
   "source": []
  }
 ],
 "metadata": {
  "kernelspec": {
   "display_name": "deep",
   "language": "python",
   "name": "python3"
  },
  "language_info": {
   "codemirror_mode": {
    "name": "ipython",
    "version": 3
   },
   "file_extension": ".py",
   "mimetype": "text/x-python",
   "name": "python",
   "nbconvert_exporter": "python",
   "pygments_lexer": "ipython3",
   "version": "3.9.11"
  },
  "orig_nbformat": 4
 },
 "nbformat": 4,
 "nbformat_minor": 2
}
